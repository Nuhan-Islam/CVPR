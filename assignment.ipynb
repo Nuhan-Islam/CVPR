{
  "nbformat": 4,
  "nbformat_minor": 0,
  "metadata": {
    "colab": {
      "name": "Untitled4.ipynb",
      "provenance": []
    },
    "kernelspec": {
      "name": "python3",
      "display_name": "Python 3"
    },
    "language_info": {
      "name": "python"
    }
  },
  "cells": [
    {
      "cell_type": "code",
      "metadata": {
        "id": "_TuFNc5kFd6r"
      },
      "source": [
        "# Code to read csv file into colaboratory:\n",
        "!pip install -U -q PyDrive\n",
        "from pydrive.auth import GoogleAuth\n",
        "from pydrive.drive import GoogleDrive\n",
        "from google.colab import auth\n",
        "from oauth2client.client import GoogleCredentials\n"
      ],
      "execution_count": 5,
      "outputs": []
    },
    {
      "cell_type": "code",
      "metadata": {
        "id": "HcEM09tkFjd7"
      },
      "source": [
        "auth.authenticate_user()\n",
        "gauth = GoogleAuth()\n",
        "gauth.credentials = GoogleCredentials.get_application_default()\n",
        "drive = GoogleDrive(gauth)"
      ],
      "execution_count": 6,
      "outputs": []
    },
    {
      "cell_type": "code",
      "metadata": {
        "id": "pCGmJ1XJFvjm"
      },
      "source": [
        "downloaded = drive.CreateFile({'id':'16WS2op3fbJrorCHrbnhsmZhNoeTG0HKM'}) # replace the id with id of file you want to access\n",
        "downloaded.GetContentFile('data.csv')"
      ],
      "execution_count": 7,
      "outputs": []
    },
    {
      "cell_type": "code",
      "metadata": {
        "colab": {
          "base_uri": "https://localhost:8080/"
        },
        "id": "U5JOA2IsGW7G",
        "outputId": "2042e6af-5961-4356-f103-14ba94eee82f"
      },
      "source": [
        "import pandas as pd\n",
        "df = pd.read_csv('data.csv') \n",
        "print(df.head(50))"
      ],
      "execution_count": 20,
      "outputs": [
        {
          "output_type": "stream",
          "name": "stdout",
          "text": [
            "    X1   X2  Y\n",
            "0   36   50  1\n",
            "1   94   53  0\n",
            "2   14   67  1\n",
            "3    5   67  1\n",
            "4    3   87  1\n",
            "5   82   20  0\n",
            "6   24   11  0\n",
            "7   57   55  0\n",
            "8   49   30  0\n",
            "9   50   56  1\n",
            "10  35   73  1\n",
            "11  52   40  0\n",
            "12   5   81  1\n",
            "13  52   57  1\n",
            "14  61   24  0\n",
            "15  70   80  1\n",
            "16  45   94  1\n",
            "17  45   13  0\n",
            "18  65   50  0\n",
            "19  90   27  0\n",
            "20  78   51  0\n",
            "21  88   28  0\n",
            "22  52   42  0\n",
            "23  91   87  0\n",
            "24  35   11  0\n",
            "25  45   80  1\n",
            "26  34   41  1\n",
            "27   8    6  0\n",
            "28  89   62  0\n",
            "29  83   82  0\n",
            "30  19   90  1\n",
            "31   3   35  1\n",
            "32  37   51  1\n",
            "33  66   13  0\n",
            "34  43   57  1\n",
            "35  26   53  1\n",
            "36  19  100  1\n",
            "37  58   33  0\n",
            "38  73   63  0\n",
            "39  30   49  1\n",
            "40  49   72  1\n",
            "41  62   43  0\n",
            "42  40   54  1\n",
            "43  30    1  0\n",
            "44  13   53  1\n",
            "45  69   57  0\n",
            "46  49    6  0\n",
            "47  25   61  1\n",
            "48  64   81  1\n"
          ]
        }
      ]
    },
    {
      "cell_type": "code",
      "metadata": {
        "colab": {
          "base_uri": "https://localhost:8080/"
        },
        "id": "kRXXTwXwHh7p",
        "outputId": "4f6ddbd5-8382-4bfa-afac-b54314ebd743"
      },
      "source": [
        "import random\n",
        "import matplotlib.pyplot as plt\n",
        "X1 = []\n",
        "X2 = []\n",
        "Y = []\n",
        "\n",
        "X1=df['X1'].values.tolist()\n",
        "X2=df['X2'].values.tolist()\n",
        "Y=df['Y'].values.tolist()\n",
        "print(X1)\n",
        "print(X2)\n",
        "print(Y)"
      ],
      "execution_count": 21,
      "outputs": [
        {
          "output_type": "stream",
          "name": "stdout",
          "text": [
            "[36, 94, 14, 5, 3, 82, 24, 57, 49, 50, 35, 52, 5, 52, 61, 70, 45, 45, 65, 90, 78, 88, 52, 91, 35, 45, 34, 8, 89, 83, 19, 3, 37, 66, 43, 26, 19, 58, 73, 30, 49, 62, 40, 30, 13, 69, 49, 25, 64]\n",
            "[50, 53, 67, 67, 87, 20, 11, 55, 30, 56, 73, 40, 81, 57, 24, 80, 94, 13, 50, 27, 51, 28, 42, 87, 11, 80, 41, 6, 62, 82, 90, 35, 51, 13, 57, 53, 100, 33, 63, 49, 72, 43, 54, 1, 53, 57, 6, 61, 81]\n",
            "[1, 0, 1, 1, 1, 0, 0, 0, 0, 1, 1, 0, 1, 1, 0, 1, 1, 0, 0, 0, 0, 0, 0, 0, 0, 1, 1, 0, 0, 0, 1, 1, 1, 0, 1, 1, 1, 0, 0, 1, 1, 0, 1, 0, 1, 0, 0, 1, 1]\n"
          ]
        }
      ]
    },
    {
      "cell_type": "code",
      "metadata": {
        "colab": {
          "base_uri": "https://localhost:8080/",
          "height": 265
        },
        "id": "Q-9rWI0bJsrm",
        "outputId": "632c0819-65f8-4517-a560-4d85b99e9034"
      },
      "source": [
        "import matplotlib.pyplot as plt\n",
        "import math\n",
        "import random\n",
        "from IPython import display\n",
        "from scipy.signal import savgol_filter\n",
        "plt.figure()\n",
        "for i in range(len(Y)):\n",
        "    if Y[i]==0:\n",
        "        plt.plot(X1[i],X2[i], \"r+\")\n",
        "    else:\n",
        "        plt.plot(X1[i],X2[i],\"g+\")\n",
        "plt.show()"
      ],
      "execution_count": 22,
      "outputs": [
        {
          "output_type": "display_data",
          "data": {
            "image/png": "[encoded data removed]",
            "text/plain": [
              "<Figure size 432x288 with 1 Axes>"
            ]
          },
          "metadata": {
            "needs_background": "light"
          }
        }
      ]
    },
    {
      "cell_type": "code",
      "metadata": {
        "colab": {
          "base_uri": "https://localhost:8080/",
          "height": 353
        },
        "id": "Uc1mpzO_JzbX",
        "outputId": "50d60a59-0464-4a44-850f-2042c3aa7402"
      },
      "source": [
        "W=[random.random(), random.random()]\n",
        "b=random.random()\n",
        "lr=0.5\n",
        "\n",
        "theta=0.5\n",
        "epoch=0\n",
        "count=0\n",
        "loss=[]\n",
        "while count < len(X1):\n",
        "    total_error=0\n",
        "    for i in range(len(X1)):\n",
        "        ws=W[0]*X1[i]+W[1]*X2[i]+b\n",
        "        pred=0\n",
        "        if ws > theta:\n",
        "            pred=1\n",
        "        \n",
        "        error = Y[i]-pred\n",
        "        if error!=0:\n",
        "            count=0\n",
        "            total_error+=math.sqrt(error**2)\n",
        "            W[0]+=lr*error*X1[i]\n",
        "            W[1]+=lr*error*X2[i]\n",
        "            b+=lr*error\n",
        "        else:\n",
        "            count+=1\n",
        "    loss.append(1/len(X1)*total_error)\n",
        "    plt.figure(figsize=(15,5))\n",
        "    display.clear_output(wait=True)\n",
        "    plt.subplot(1,2,1)\n",
        "    for i in range(len(Y)):\n",
        "        if Y[i]==0:\n",
        "            plt.plot(X1[i],X2[i], \"ro\")\n",
        "        else:\n",
        "            plt.plot(X1[i],X2[i],\"go\")\n",
        "        plt.xlim(-5,120)\n",
        "        plt.ylim(-5,120)\n",
        "        xint=(theta-b)/W[0]\n",
        "        yint=(theta-b)/W[1]\n",
        "        slope=-yint/xint\n",
        "        x=plt.xlim()\n",
        "        y=[]\n",
        "        for i in x:\n",
        "            y.append(slope*i+yint)\n",
        "        plt.plot(x,y, 'w-',linewidth=5)\n",
        "        plt.fill_between(x=[-5,120],y1=-5,y2=120, color='g',alpha=.01)\n",
        "        plt.fill_between(x=[-5,120],y1=-5,y2=y, color='#F05F5F',alpha=.4)\n",
        "        #plt.fill_between(x=[-5,120],y1=y,y2=-5, color='g')\n",
        "        \n",
        "    plt.title(f\"Epoch ={epoch} and Total Error={total_error}\")\n",
        "    plt.subplot(1,2,2)\n",
        "    plt.ylim([-.5,1])\n",
        "    plt.plot(loss, alpha=0.3)\n",
        "    if epoch > 10:\n",
        "        avg = savgol_filter(loss, 11, 3) # window size 51, polynomial order 3\n",
        "        plt.plot(avg, 'r--', lw=3)\n",
        "    \n",
        "    plt.show()\n",
        "    print(f\"Epoch: {epoch} Loss: {loss[-1]} and y={y} and x={xint}\")\n",
        "    epoch+=1\n"
      ],
      "execution_count": 23,
      "outputs": [
        {
          "output_type": "display_data",
          "data": {
            "image/png": "[encoded data removed]",
            "text/plain": [
              "<Figure size 1080x360 with 2 Axes>"
            ]
          },
          "metadata": {
            "needs_background": "light"
          }
        },
        {
          "output_type": "stream",
          "name": "stdout",
          "text": [
            "Epoch: 1 Loss: 0.0 and y=[-5.279917020034151, 126.3724318605334] and x=0.013124589998760794\n"
          ]
        }
      ]
    }
  ]
}