{
  "nbformat": 4,
  "nbformat_minor": 0,
  "metadata": {
    "colab": {
      "name": "Untitled3.ipynb",
      "provenance": [],
      "collapsed_sections": []
    },
    "kernelspec": {
      "name": "python3",
      "display_name": "Python 3"
    },
    "language_info": {
      "name": "python"
    }
  },
  "cells": [
    {
      "cell_type": "code",
      "metadata": {
        "id": "7cuqvx02E4vL"
      },
      "source": [
        "import random"
      ],
      "execution_count": 2,
      "outputs": []
    },
    {
      "cell_type": "code",
      "metadata": {
        "id": "JaYmdAZDFJHy"
      },
      "source": [
        "X1 = []\n",
        "X2 = []\n",
        "Y = []\n",
        "\n",
        "for i in range(50):\n",
        "  X1.append(random.randint(0, 100))\n",
        "  X2.append(random.randint(0, 100))\n",
        "  if (X1[i] > X2[i]):\n",
        "    Y.append(1)\n",
        "  else:\n",
        "    Y.append(0)"
      ],
      "execution_count": 3,
      "outputs": []
    },
    {
      "cell_type": "code",
      "metadata": {
        "colab": {
          "base_uri": "https://localhost:8080/",
          "height": 268
        },
        "id": "a7wDbyVLFLJ3",
        "outputId": "577c7efc-b773-4320-f1f3-4cde0c3762b9"
      },
      "source": [
        "import matplotlib.pyplot as plt\n",
        "\n",
        "for i in range(len(Y)):\n",
        "    if Y[i] == 0:\n",
        "        plt.plot(X1[i], X2[i], \"r+\")\n",
        "    else:\n",
        "        plt.plot(X1[i], X2[i], \"g+\")"
      ],
      "execution_count": 4,
      "outputs": [
        {
          "output_type": "display_data",
          "data": {
            "image/png": "[encoded data removed]",
            "text/plain": [
              "<Figure size 432x288 with 1 Axes>"
            ]
          },
          "metadata": {
            "needs_background": "light"
          }
        }
      ]
    },
    {
      "cell_type": "code",
      "metadata": {
        "colab": {
          "base_uri": "https://localhost:8080/",
          "height": 631
        },
        "id": "V9_bNKDOFZPi",
        "outputId": "c1250e16-3745-4ad0-9437-22b8fba5af97"
      },
      "source": [
        "epoch = 0\n",
        "count = 0\n",
        "loss = []\n",
        "\n",
        "while count < len(X1):\n",
        "    total_err = 0\n",
        "    for i in range(len(X1)):\n",
        "        weighted_sum = W[0] * X1[i] + W[1] * X2[i] + b\n",
        "        pred = 0\n",
        "        if weighted_sum > theta:\n",
        "            pred = 1\n",
        "\n",
        "        error = Y[i] - pred\n",
        "        if error != 0:\n",
        "            count = 0\n",
        "            total_err += math.sqrt(error ** 2)\n",
        "\n",
        "            W[0] += lr * error * X1[i]\n",
        "            W[1] += lr * error * X2[i]\n",
        "            b += lr * error\n",
        "        else:\n",
        "            count += 1\n",
        "    \n",
        "    loss.append(1/4 * total_err)\n",
        "\n",
        "    plt.figure(figsize = (20, 5))\n",
        "    display.clear_output(wait = True)\n",
        "    plt.subplot(1, 2, 1)\n",
        "\n",
        "    for i in range(len(Y)):\n",
        "        if Y[i] == 0:\n",
        "            plt.plot(X1[i], X2[i], \"bo\")\n",
        "        else:\n",
        "            plt.plot(X1[i], X2[i], \"go\")\n",
        "\n",
        "    plt.xlim([-10, 120])\n",
        "    plt.ylim([-10, 120])\n",
        "        \n",
        "    xint = (theta - b) / W[0]\n",
        "    yint = (theta - b) / W[1]\n",
        "\n",
        "    slope = -yint / xint\n",
        "    x = plt.xlim()\n",
        "epoch = 0\n",
        "count = 0\n",
        "loss = []\n",
        "\n",
        "while count < len(X1):\n",
        "    total_err = 0\n",
        "    for i in range(len(X1)):\n",
        "        weighted_sum = W[0] * X1[i] + W[1] * X2[i] + b\n",
        "        pred = 0\n",
        "        if weighted_sum > theta:\n",
        "            pred = 1\n",
        "\n",
        "        error = Y[i] - pred\n",
        "        if error != 0:\n",
        "            count = 0\n",
        "            total_err += math.sqrt(error ** 2)\n",
        "\n",
        "            W[0] += lr * error * X1[i]\n",
        "            W[1] += lr * error * X2[i]\n",
        "            b += lr * error\n",
        "        else:\n",
        "            count += 1\n",
        "    \n",
        "    loss.append(1/4 * total_err)\n",
        "\n",
        "    plt.figure(figsize = (20, 5))\n",
        "    display.clear_output(wait = True)\n",
        "    plt.subplot(1, 2, 1)\n",
        "\n",
        "    for i in range(len(Y)):\n",
        "        if Y[i] == 0:\n",
        "            plt.plot(X1[i], X2[i], \"bo\")\n",
        "        else:\n",
        "            plt.plot(X1[i], X2[i], \"go\")\n",
        "\n",
        "    plt.xlim([-10, 120])\n",
        "    plt.ylim([-10, 120])\n",
        "        \n",
        "    xint = (theta - b) / W[0]\n",
        "    yint = (theta - b) / W[1]\n",
        "\n",
        "    slope = -yint / xint\n",
        "    x = plt.xlim()\n",
        "    # background coloring\n",
        "    # plt.fill_betweenx(x1 = 1, x2 = 50, y = [1, 50], color = 'r')\n",
        "\n",
        "    yeq = []\n",
        "    for i in x:\n",
        "        yeq.append(slope * i + yint)\n",
        "    plt.plot(x, yeq, 'r')\n",
        "    epoch += 1"
      ],
      "execution_count": 8,
      "outputs": [
        {
          "output_type": "display_data",
          "data": {
            "image/png": "[encoded data removed]",
            "text/plain": [
              "<Figure size 1440x360 with 1 Axes>"
            ]
          },
          "metadata": {
            "needs_background": "light"
          }
        },
        {
          "output_type": "display_data",
          "data": {
            "image/png": "[encoded data removed]",
            "text/plain": [
              "<Figure size 1440x360 with 1 Axes>"
            ]
          },
          "metadata": {
            "needs_background": "light"
          }
        }
      ]
    }
  ]
}